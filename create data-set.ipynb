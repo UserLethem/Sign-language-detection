{
 "cells": [
  {
   "cell_type": "markdown",
   "id": "85a850c7",
   "metadata": {},
   "source": [
    "**Усановка зависимостей**"
   ]
  },
  {
   "cell_type": "code",
   "execution_count": 2,
   "id": "9715fef2",
   "metadata": {},
   "outputs": [],
   "source": [
    "import cv2 # opencv\n",
    "import os\n",
    "import time\n",
    "import uuid"
   ]
  },
  {
   "cell_type": "markdown",
   "id": "d16802d4",
   "metadata": {},
   "source": [
    "**Путь сохранения тренировочного сета**"
   ]
  },
  {
   "cell_type": "code",
   "execution_count": 3,
   "id": "4aeac145",
   "metadata": {},
   "outputs": [],
   "source": [
    "IMAGES_PATH = \"Tensorflow/workspace/images/collectedimages\""
   ]
  },
  {
   "cell_type": "markdown",
   "id": "f8f2a4ff",
   "metadata": {},
   "source": [
    "**Список классификации**"
   ]
  },
  {
   "cell_type": "code",
   "execution_count": 4,
   "id": "6d1967d2",
   "metadata": {},
   "outputs": [],
   "source": [
    "labels = ['hello']\n",
    "number_imgs = 15"
   ]
  },
  {
   "cell_type": "markdown",
   "id": "1a7b5058",
   "metadata": {},
   "source": [
    "**Создание дата сета через список классификации**"
   ]
  },
  {
   "cell_type": "code",
   "execution_count": 5,
   "id": "ea0e9195",
   "metadata": {},
   "outputs": [
    {
     "name": "stderr",
     "output_type": "stream",
     "text": [
      "Џ®¤Ї ЇЄ  Ё«Ё д ©« Tensorflow\\workspace\\images\\collectedimages\\hello г¦Ґ бгйҐбвўгҐв.\n"
     ]
    },
    {
     "name": "stdout",
     "output_type": "stream",
     "text": [
      "Collecting imaged for hello\n"
     ]
    }
   ],
   "source": [
    "for label in labels:\n",
    "    !mkdir {'Tensorflow\\workspace\\images\\collectedimages\\\\'+ label}\n",
    "    cap = cv2.VideoCapture(0)\n",
    "    print('Collecting imaged for {}'.format(label))\n",
    "    time.sleep(5)\n",
    "    for imgnum in range(number_imgs):\n",
    "        ret, frame = cap.read()\n",
    "        imgname = os.path.join(IMAGES_PATH, label, label+'.'+'{}.jpg'.format(str(uuid.uuid1())))\n",
    "        cv2.imwrite(imgname, frame)\n",
    "        cv2.imshow('frame', frame)\n",
    "        time.sleep(2)\n",
    "        \n",
    "        if cv2.waitKey(1) & 0xFF == ord('q'):\n",
    "            break\n",
    "        cap.release"
   ]
  },
  {
   "cell_type": "code",
   "execution_count": null,
   "id": "a4793123",
   "metadata": {},
   "outputs": [],
   "source": []
  },
  {
   "cell_type": "code",
   "execution_count": null,
   "id": "5abcb68c",
   "metadata": {},
   "outputs": [],
   "source": []
  },
  {
   "cell_type": "code",
   "execution_count": null,
   "id": "ccc809e7",
   "metadata": {},
   "outputs": [],
   "source": []
  },
  {
   "cell_type": "code",
   "execution_count": null,
   "id": "2d07a8ae",
   "metadata": {},
   "outputs": [],
   "source": []
  }
 ],
 "metadata": {
  "kernelspec": {
   "display_name": "Python 3 (ipykernel)",
   "language": "python",
   "name": "python3"
  },
  "language_info": {
   "codemirror_mode": {
    "name": "ipython",
    "version": 3
   },
   "file_extension": ".py",
   "mimetype": "text/x-python",
   "name": "python",
   "nbconvert_exporter": "python",
   "pygments_lexer": "ipython3",
   "version": "3.11.3"
  }
 },
 "nbformat": 4,
 "nbformat_minor": 5
}
